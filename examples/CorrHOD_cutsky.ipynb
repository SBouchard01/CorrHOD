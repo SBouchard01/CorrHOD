{
 "cells": [
  {
   "cell_type": "markdown",
   "metadata": {},
   "source": [
    "# How to run CorrHOD_cutsky"
   ]
  },
  {
   "cell_type": "code",
   "execution_count": null,
   "metadata": {},
   "outputs": [],
   "source": [
    "import numpy as np\n",
    "import matplotlib.pyplot as plt\n",
    "from pathlib import Path\n",
    "\n",
    "from pycorr import project_to_multipoles\n",
    "\n",
    "from CorrHOD import CorrHOD_cutsky\n",
    "\n",
    "# Get the number of threads available\n",
    "import multiprocessing\n",
    "nthread = multiprocessing.cpu_count()\n",
    "print(f'Number of threads available: {nthread}')"
   ]
  },
  {
   "cell_type": "code",
   "execution_count": null,
   "metadata": {},
   "outputs": [],
   "source": [
    "# Logging\n",
    "import sys\n",
    "from CorrHOD import create_logger\n",
    "from mockfactory import setup_logging\n",
    "\n",
    "# Get a logger object\n",
    "setup_logging() # Initialize the logging for all the loggers that will not have a handler \n",
    "logger = create_logger('CorrHOD', level='debug', stream=sys.stdout)"
   ]
  },
  {
   "cell_type": "code",
   "execution_count": null,
   "metadata": {},
   "outputs": [],
   "source": [
    "# Define the parameters we will use\n",
    "path2config = Path('config.yaml') # Useless here, but we need it to create the object\n",
    "\n",
    "# DensitySplit parameters\n",
    "nquantiles = 10 # Number of quantiles to split the sample\n",
    "\n",
    "# Correlation functions parameters\n",
    "sbins = np.linspace(0.1, 30, 50) # Bins in s for the CFs (default ones)\n",
    "edges = [sbins, np.linspace(-1, 1, 60)]"
   ]
  },
  {
   "cell_type": "markdown",
   "metadata": {},
   "source": [
    "At this point in developpement, the simulation generation is not implemented yet. Here is how to load one in the class to run the analysis :"
   ]
  },
  {
   "cell_type": "code",
   "execution_count": null,
   "metadata": {},
   "outputs": [],
   "source": [
    "from CorrHOD.catalogs import read_fits, catalog_cuts, create_random\n",
    "\n",
    "# Read the data\n",
    "path = '/global/cfs/cdirs/desi/cosmosim/FirstGenMocks/AbacusSummit/CutSky/BGS_v2/z0.200/cutsky_BGS_z0.200_AbacusSummit_base_c000_ph000.fits'\n",
    "data_cutsky = read_fits(path, check_cutsky_format=True, print_column_names=True)\n",
    "\n",
    "# Apply some cuts to the data\n",
    "zcut = [0.1, 0.5]\n",
    "magcut = -21.5 # Magnitude cut : We only keep galaxies brighter than this magnitude (i.e. with a lower magnitude)\n",
    "data_cutsky = catalog_cuts(data_cutsky, zmin=zcut[0], zmax=zcut[1], abs_mag=magcut, app_mag=None, cap='NGC')\n",
    "\n",
    "# Import the randoms (Same thing as the data)\n",
    "path = '/global/cfs/cdirs/desi/cosmosim/FirstGenMocks/AbacusSummit/CutSky/BGS_v2/z0.200'\n",
    "randoms_cutsky = create_random(path, multiplier=3) \n",
    "randoms_cutsky = catalog_cuts(randoms_cutsky, zmin=zcut[0], zmax=zcut[1], abs_mag=magcut, app_mag=None, cap='NGC')"
   ]
  },
  {
   "cell_type": "code",
   "execution_count": null,
   "metadata": {},
   "outputs": [],
   "source": [
    "# Create the CorrHOD object\n",
    "Object = CorrHOD_cutsky(path2config) \n",
    "Object.cutsky_dict = data_cutsky\n",
    "Object.randoms_dict = randoms_cutsky"
   ]
  },
  {
   "cell_type": "code",
   "execution_count": null,
   "metadata": {},
   "outputs": [],
   "source": [
    "data_positions = Object.get_tracer_positions(return_cartesian=True) # Get the positions of the tracers and get the coordinates in the right shift\n",
    "Object.get_tracer_weights();  # Get the weights of the tracers"
   ]
  },
  {
   "cell_type": "code",
   "execution_count": null,
   "metadata": {},
   "outputs": [],
   "source": [
    "# Get the sky fraction and footprint\n",
    "\n",
    "from CorrHOD.weights import sky_fraction, comoving_volume\n",
    "from cosmoprimo.fiducial import AbacusSummit\n",
    "cosmo = AbacusSummit('000')\n",
    "\n",
    "# Compute the sky fraction\n",
    "ra = np.asarray(randoms_cutsky['RA'])\n",
    "dec = np.asarray(randoms_cutsky['DEC'])\n",
    "fsky = sky_fraction(ra, dec)\n",
    "area = fsky*4*np.pi*(180/np.pi)**2\n",
    "\n",
    "print(f\"Sky fraction : {fsky:.2%}\")\n",
    "\n",
    "nsub=100\n",
    "plt.scatter(data_cutsky['RA'][::nsub], data_cutsky['DEC'][::nsub], s=1, alpha=0.3, facecolors='none', edgecolors='b')\n",
    "plt.scatter(randoms_cutsky['RA'][::nsub], randoms_cutsky['DEC'][::nsub], s=1, alpha=0.3, facecolors='none', edgecolors='orange');"
   ]
  },
  {
   "cell_type": "code",
   "execution_count": null,
   "metadata": {},
   "outputs": [],
   "source": [
    "# Compute the DensitySplit\n",
    "quantiles, density = Object.compute_DensitySplit(nquantiles=nquantiles, return_density=True, nthread=nthread);"
   ]
  },
  {
   "cell_type": "code",
   "execution_count": null,
   "metadata": {},
   "outputs": [],
   "source": [
    "fig, ax = plt.subplots(1, 2, figsize=(12, 4))\n",
    "\n",
    "# Plot the quantiles density\n",
    "from pandas import qcut\n",
    "density_quantiles = []\n",
    "q_cut = qcut(density, nquantiles, labels=False) \n",
    "\n",
    "for i in range(nquantiles):\n",
    "    density_quantiles.append(density[q_cut == i])\n",
    "    ax[1].hist(density_quantiles[i], bins=100, density=True, alpha=0.8, label=f'Q{i}')\n",
    "\n",
    "ax[0].hist(density, bins=500, density=True, alpha=0.7, color='k')\n",
    "\n",
    "ax[0].set_xlabel(r'$\\Delta(R_s)$', fontsize=15)\n",
    "ax[1].set_xlabel(r'$\\Delta(R_s)$', fontsize=15)\n",
    "ax[0].set_ylabel('PDF', fontsize=15)\n",
    "fig.suptitle(f'Density PDFs for {nquantiles} quantiles', fontsize=15);"
   ]
  },
  {
   "cell_type": "code",
   "execution_count": null,
   "metadata": {},
   "outputs": [],
   "source": [
    "# Plot the positions in the sky\n",
    "fig, ax = plt.subplots(1, 2, figsize=(10, 20))\n",
    "\n",
    "fig, ax = plt.subplots(1, 2, figsize=(12, 5))\n",
    "boxsize = 2000\n",
    "\n",
    "cut = data_positions[:, 2] < 50\n",
    "ax[0].scatter(data_positions[cut, 0], data_positions[cut, 1], s=0.1, color='grey', label='Galaxies')\n",
    "ax[1].scatter(data_positions[cut, 0], data_positions[cut, 1], s=0.1, color='grey', label='Galaxies')\n",
    "\n",
    "for i, ids in enumerate([0, nquantiles-1]):\n",
    "    cut = quantiles[ids][:, 2] < 50\n",
    "\n",
    "    ax[i].scatter(quantiles[ids][cut, 0], quantiles[ids][cut, 1], s=0.1, color='crimson', label='Density split')\n",
    "    ax[i].set_title(f'DS{ids}', fontsize=12)\n",
    "\n",
    "    ax[i].set_xlabel('x [Mpc/h]', fontsize=12)\n",
    "    ax[i].set_ylabel('x [Mpc/h]', fontsize=12)\n",
    "#     ax[i].set_xlim(0, boxsize)\n",
    "#     ax[i].set_ylim(0, boxsize)\n",
    "\n",
    "ax[0].legend(fontsize=12, markerscale=5, loc='upper left')\n",
    "plt.show();"
   ]
  },
  {
   "cell_type": "code",
   "execution_count": null,
   "metadata": {},
   "outputs": [],
   "source": [
    "Object.get_tracer_weights(); # Get the weights for the quantiles (now that we have them)"
   ]
  },
  {
   "cell_type": "code",
   "execution_count": null,
   "metadata": {},
   "outputs": [],
   "source": [
    "# Get and plot the n(z) of the data, randoms and quantiles\n",
    "nz_data, nz_randoms, nz_quantiles = Object.get_nz()\n",
    "\n",
    "fig, ax = plt.subplots(figsize=(8, 6))\n",
    "z_space = np.linspace(0.01, 0.5, 100)\n",
    "\n",
    "ax.plot(z_space, nz_data(z_space)*3, label='Data') # Note the factor 3 here, because we have 3 times more randoms than data\n",
    "ax.plot(z_space, nz_randoms(z_space), label='Randoms')\n",
    "\n",
    "for i in range(nquantiles):\n",
    "    ax.plot(z_space, nz_quantiles[i](z_space)*10, label=f'Quantile {i}', alpha=0.3) # Same here, the quantiles are by definition 10 times less than the randoms\n",
    "\n",
    "ax.legend()\n",
    "ax.set_xlabel('z')\n",
    "ax.set_ylabel('Number density')\n",
    "ax.set_yscale('log')"
   ]
  },
  {
   "cell_type": "code",
   "execution_count": null,
   "metadata": {},
   "outputs": [],
   "source": [
    "# Downsample the data\n",
    "npoints = 3_000_000 # Number of points to use for the downsampling\n",
    "Object.downsample_data(npoints=npoints);"
   ]
  },
  {
   "cell_type": "code",
   "execution_count": null,
   "metadata": {},
   "outputs": [],
   "source": [
    "# Compute the 2PCF\n",
    "xi_cutsky = Object.compute_2pcf(edges=edges, nthread=nthread)"
   ]
  },
  {
   "cell_type": "code",
   "execution_count": null,
   "metadata": {},
   "outputs": [],
   "source": [
    "# Compute the Cross-Correlation for DS0 and DS9\n",
    "xi_cutsky_0 = Object.compute_cross_corr(0, edges=edges, nthread=nthread)\n",
    "xi_cutsky_9 = Object.compute_cross_corr(nquantiles-1, edges=edges, nthread=nthread)"
   ]
  }
 ],
 "metadata": {
  "language_info": {
   "name": "python"
  },
  "orig_nbformat": 4
 },
 "nbformat": 4,
 "nbformat_minor": 2
}
