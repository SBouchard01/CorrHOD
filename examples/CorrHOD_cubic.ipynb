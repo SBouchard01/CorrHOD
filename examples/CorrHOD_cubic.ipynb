{
 "cells": [
  {
   "cell_type": "markdown",
   "metadata": {},
   "source": [
    "# How to run CorrHOD_cubic"
   ]
  },
  {
   "cell_type": "code",
   "execution_count": 2,
   "metadata": {},
   "outputs": [
    {
     "name": "stdout",
     "output_type": "stream",
     "text": [
      "Number of threads available: 256\n"
     ]
    }
   ],
   "source": [
    "import numpy as np\n",
    "import matplotlib.pyplot as plt\n",
    "from pathlib import Path\n",
    "\n",
    "from pycorr import project_to_multipoles\n",
    "\n",
    "from CorrHOD import CorrHOD_cubic\n",
    "\n",
    "# Get the number of threads available\n",
    "import multiprocessing\n",
    "nthread = multiprocessing.cpu_count()\n",
    "print(f'Number of threads available: {nthread}')"
   ]
  },
  {
   "cell_type": "code",
   "execution_count": 3,
   "metadata": {},
   "outputs": [],
   "source": [
    "# Logging\n",
    "import sys\n",
    "from CorrHOD import create_logger\n",
    "from mockfactory import setup_logging\n",
    "\n",
    "# Get a logger object\n",
    "setup_logging() # Initialize the logging for all the loggers that will not have a handler \n",
    "logger = create_logger('CorrHOD', level='debug', stream=sys.stdout)"
   ]
  },
  {
   "cell_type": "code",
   "execution_count": 4,
   "metadata": {},
   "outputs": [],
   "source": [
    "# Define the parameters we will use\n",
    "path2config = Path('config.yaml')\n",
    "\n",
    "# let's define some parameters to pass to the HOD model\n",
    "HOD_params = {\n",
    "    'logM_cut': 12,\n",
    "    'logM1':    13, \n",
    "    'sigma':    0.32, \n",
    "    'alpha':    1.11, \n",
    "    'kappa':    10**(-1.43), \n",
    "    'alpha_c':  0.0, \n",
    "    'alpha_s':  0.0, \n",
    "    'Bcent':    0.0, \n",
    "    'Bsat':     0.0\n",
    "}\n",
    "# The parameters we did not define will take the default values from the config file\n",
    "\n",
    "# DensitySplit parameters\n",
    "nquantiles = 10 # Number of quantiles to split the sample\n",
    "\n",
    "# Correlation functions parameters\n",
    "sbins = np.linspace(0.1, 30, 50) # Bins in s for the CFs (default ones)\n",
    "edges = [sbins, np.linspace(-1, 1, 60)]"
   ]
  },
  {
   "cell_type": "code",
   "execution_count": null,
   "metadata": {},
   "outputs": [],
   "source": [
    "# Initialize the CorrHOD object\n",
    "Object = CorrHOD_cubic(path2config, HOD_params, los='z')\n",
    "Object.initialize_halo() # Load the halo catalog\n",
    "Object.populate_halos() # Populate the halos with galaxies\n",
    "\n",
    "print('Tracer used: ', Object.tracer)"
   ]
  },
  {
   "cell_type": "code",
   "execution_count": null,
   "metadata": {},
   "outputs": [],
   "source": [
    "data_positions = Object.get_tracer_positions() # Get the positions of the galaxies"
   ]
  },
  {
   "cell_type": "code",
   "execution_count": null,
   "metadata": {},
   "outputs": [
    {
     "name": "stdout",
     "output_type": "stream",
     "text": [
      "[000600.30] [0/1] 07-12 13:41  FFTWEngine                INFO     Saving wisdom to wisdom.shape-400-400-400.type-float64.nthreads-256.npy.\n"
     ]
    },
    {
     "data": {
      "text/plain": [
       "Text(0, 0.5, 'PDF')"
      ]
     },
     "execution_count": 13,
     "metadata": {},
     "output_type": "execute_result"
    },
    {
     "data": {
      "image/png": "[encoded data removed]",
      "text/plain": [
       "<Figure size 640x480 with 1 Axes>"
      ]
     },
     "metadata": {},
     "output_type": "display_data"
    }
   ],
   "source": [
    "# Compute the DensitySplit\n",
    "quantiles, density = Object.compute_DensitySplit(nquantiles=nquantiles, nthread=nthread)"
   ]
  },
  {
   "cell_type": "code",
   "execution_count": null,
   "metadata": {},
   "outputs": [],
   "source": [
    "fig, ax = plt.subplots(1, 2, figsize=(12, 4))\n",
    "\n",
    "# Plot the quantiles density\n",
    "from pandas import qcut\n",
    "density_quantiles = []\n",
    "q_cut = qcut(density, nquantiles, labels=False) \n",
    "\n",
    "for i in range(nquantiles):\n",
    "    density_quantiles.append(density[q_cut == i])\n",
    "    ax[1].hist(density_quantiles[i], bins=100, density=True, alpha=0.8, label=f'Q{i}')\n",
    "\n",
    "ax[0].hist(density, bins=500, density=True, alpha=0.7, color='k')\n",
    "\n",
    "ax[0].set_xlabel(r'$\\Delta(R_s)$', fontsize=15)\n",
    "ax[1].set_xlabel(r'$\\Delta(R_s)$', fontsize=15)\n",
    "ax[0].set_ylabel('PDF', fontsize=15)\n",
    "fig.suptitle(f'Density PDFs for {nquantiles} quantiles', fontsize=15);"
   ]
  },
  {
   "cell_type": "code",
   "execution_count": null,
   "metadata": {},
   "outputs": [],
   "source": [
    "# Plot the positions in the sky\n",
    "fig, ax = plt.subplots(1, 2, figsize=(10, 20))\n",
    "\n",
    "fig, ax = plt.subplots(1, 2, figsize=(12, 5))\n",
    "boxsize = 2000\n",
    "\n",
    "cut = data_positions[:, 2] < 50\n",
    "ax[0].scatter(data_positions[cut, 0], data_positions[cut, 1], s=0.1, color='grey', label='Galaxies')\n",
    "ax[1].scatter(data_positions[cut, 0], data_positions[cut, 1], s=0.1, color='grey', label='Galaxies')\n",
    "\n",
    "for i, ids in enumerate([0, nquantiles-1]):\n",
    "    cut = quantiles[ids][:, 2] < 50\n",
    "\n",
    "    ax[i].scatter(quantiles[ids][cut, 0], quantiles[ids][cut, 1], s=0.1, color='crimson', label='Density split')\n",
    "    ax[i].set_title(f'DS{ids}', fontsize=12)\n",
    "\n",
    "    ax[i].set_xlabel('x [Mpc/h]', fontsize=12)\n",
    "    ax[i].set_ylabel('x [Mpc/h]', fontsize=12)\n",
    "#     ax[i].set_xlim(0, boxsize)\n",
    "#     ax[i].set_ylim(0, boxsize)\n",
    "\n",
    "ax[0].legend(fontsize=12, markerscale=5, loc='upper left')\n",
    "plt.show();"
   ]
  },
  {
   "cell_type": "code",
   "execution_count": null,
   "metadata": {},
   "outputs": [],
   "source": [
    "# Downsample galaxies and quantiles\n",
    "new_n = 5e-4 # New number density\n",
    "Object.downsample_data(new_n=new_n);"
   ]
  },
  {
   "cell_type": "code",
   "execution_count": null,
   "metadata": {},
   "outputs": [],
   "source": [
    "# Compute the 2PCF\n",
    "xi_HOD = Object.compute_2pcf(edges=edges, nthread=nthread)"
   ]
  },
  {
   "cell_type": "code",
   "execution_count": null,
   "metadata": {},
   "outputs": [],
   "source": [
    "# Compute the Cross-Correlation for DS0 and DS9\n",
    "xi_HOD_0 = Object.compute_cross_corr(0, edges=edges, nthread=nthread)\n",
    "xi_HOD_9 = Object.compute_cross_corr(9, edges=edges, nthread=nthread)"
   ]
  },
  {
   "cell_type": "markdown",
   "metadata": {},
   "source": [
    "### The `run_all()` method\n",
    "\n",
    "The following code will run the full analysis for the cubic HOD model."
   ]
  },
  {
   "cell_type": "code",
   "execution_count": null,
   "metadata": {},
   "outputs": [],
   "source": [
    "import numpy as np\n",
    "import matplotlib.pyplot as plt\n",
    "from pathlib import Path\n",
    "\n",
    "from CorrHOD import CorrHOD_cubic\n",
    "\n",
    "# Get the number of threads available\n",
    "import multiprocessing\n",
    "nthread = multiprocessing.cpu_count()\n",
    "print(f'Number of threads available: {nthread}')\n",
    "\n",
    "# Get the loggers\n",
    "from CorrHOD import create_logger\n",
    "from mockfactory import setup_logging\n",
    "\n",
    "setup_logging() # Initialize the logging for all the loggers that will not have a handler \n",
    "logger = create_logger('CorrHOD', level='debug', stream=sys.stdout)\n",
    "\n",
    "path2config = Path('config.yaml')\n",
    "\n",
    "HOD_params = {\n",
    "    'logM_cut': 12,\n",
    "    'logM1':    13, \n",
    "    'sigma':    0.32, \n",
    "    'alpha':    1.11, \n",
    "    'kappa':    10**(-1.43), \n",
    "    'alpha_c':  0.0, \n",
    "    'alpha_s':  0.0, \n",
    "    'Bcent':    0.0, \n",
    "    'Bsat':     0.0\n",
    "}\n",
    "\n",
    "# DensitySplit parameters\n",
    "nquantiles = 10 # Number of quantiles to split the sample\n",
    "\n",
    "Object = CorrHOD_cubic(path2config, HOD_params)\n",
    "\n",
    "# We artificially reduce the number density to speed up the computation time\n",
    "new_n = 1e-4 # Density to downsample to after the DensitySplit\n",
    "\n",
    "Object.run_all(downsample_to=new_n, nquantiles=nquantiles, nthread=nthread)"
   ]
  },
  {
   "cell_type": "code",
   "execution_count": null,
   "metadata": {},
   "outputs": [],
   "source": [
    "# Plot the CFs\n",
    "\n",
    "fig, ax = plt.subplots(2, 3, sharex=True, figsize=(16, 7))\n",
    "\n",
    "colors = [f'C{i}' for i in range(nquantiles)]\n",
    "\n",
    "s = Object.CF['average']['s'] # Get the separation s (identical for all CFs)\n",
    "\n",
    "for i in range(nquantiles):\n",
    "    \n",
    "    color = colors[i]\n",
    "    alpha = 0.6\n",
    "    \n",
    "    # Plot the multipoles of the auto correlation\n",
    "    poles1 = Object.CF['average']['Auto'][f'DS{i}']\n",
    "    ax[0,0].plot(s, poles1[0]*s**2, alpha=alpha, color=color, label = f'DS{i}')\n",
    "    ax[0,1].plot(s, poles1[1]*s**2, alpha=alpha, color=color)\n",
    "    ax[0,2].plot(s, poles1[2]*s**2, alpha=alpha, color=color)\n",
    "\n",
    "    # Plot the multipoles of the cross correlation\n",
    "    poles2 = Object.CF['average']['Cross'][f'DS{i}']\n",
    "    ax[1,0].plot(s, poles2[0]*s**2, alpha=alpha, color=color)\n",
    "    ax[1,1].plot(s, poles2[1]*s**2, alpha=alpha, color=color)\n",
    "    ax[1,2].plot(s, poles2[2]*s**2, alpha=alpha, color=color)\n",
    "    \n",
    "#Add the 2PCF on both plots\n",
    "\n",
    "poles = Object.CF['average']['2PCF']\n",
    "for i in [0, 1]:\n",
    "    ax[i,0].plot(s, poles[0]*s**2, alpha=alpha, color='k', ls='--', label='2PCF')\n",
    "    ax[i,1].plot(s, poles[1]*s**2, alpha=alpha, color='k', ls='--')\n",
    "    ax[i,2].plot(s, poles[2]*s**2, alpha=alpha, color='k', ls='--')\n",
    "\n",
    "\n",
    "ax[0,0].legend()\n",
    "ax[1,0].set_xlabel(r'$s$')\n",
    "ax[1,0].set_ylabel(r'$s^2\\xi_l(s)$')\n",
    "ax[0,0].set_ylabel(r'$s^2\\xi_l(s)$')\n",
    "ax[0,0].set_title('Monopole', fontsize=11)\n",
    "ax[0,1].set_title('Quadrupole', fontsize=11)\n",
    "ax[0,2].set_title('Hexadecapole', fontsize=11)\n",
    "fig.suptitle('Auto (top) and Cross (bottom) Correlation for c000', fontsize=15, y=1);"
   ]
  },
  {
   "cell_type": "code",
   "execution_count": null,
   "metadata": {},
   "outputs": [],
   "source": [
    "# Access the times\n",
    "\n",
    "# The times are stored in a dictionary\n",
    "times_dict = Object.times_dict\n",
    "\n",
    "# Let's compute some interesting times to look at\n",
    "\n",
    "total_time = times_dict['run_all']\n",
    "\n",
    "mean_los_time = np.mean([times_dict[los]['run_los'] for los in ['x', 'y', 'z']], axis=0)\n",
    "mean_2PCF_time = np.mean([times_dict[los]['compute_2pcf'] for los in ['x', 'y', 'z']], axis=0)\n",
    "mean_auto_time = np.mean([times_dict[los]['compute_auto_corr'][f'DS{i}'] for los in ['x', 'y', 'z'] for i in range(nquantiles)], axis=0)\n",
    "mean_cross_time = np.mean([times_dict[los]['compute_cross_corr'][f'DS{i}'] for los in ['x', 'y', 'z'] for i in range(nquantiles)], axis=0)\n",
    "total_auto_time = np.mean([np.sum([times_dict[los]['compute_auto_corr'][f'DS{i}'] for i in range(nquantiles)], axis=0) for los in ['x', 'y', 'z']], axis=0)\n",
    "total_cross_time = np.mean([np.sum([times_dict[los]['compute_cross_corr'][f'DS{i}'] for i in range(nquantiles)], axis=0) for los in ['x', 'y', 'z']], axis=0)\n",
    "\n",
    "#Display the times\n",
    "print(f'Total time: {total_time:.2f} s')\n",
    "print(f'Mean time for computing a LOS: {mean_los_time:.2f} s')\n",
    "print(f'Mean time for computing the 2PCF: {mean_2PCF_time:.2f} s')\n",
    "print(f'Mean time for computing an auto correlation: {mean_auto_time:.2f} s')\n",
    "print(f'Mean time for computing a cross correlation: {mean_cross_time:.2f} s')\n",
    "print(f'Mean time for computing all auto correlations: {total_auto_time:.2f} s')\n",
    "print(f'Mean time for computing all cross correlations: {total_cross_time:.2f} s')"
   ]
  },
  {
   "cell_type": "markdown",
   "metadata": {},
   "source": [
    "### Load a catalog in the class\n",
    "\n",
    "It is also possible to run the analysis on a catalog that is not generated by the class. The catalog must be a `pandas` array."
   ]
  },
  {
   "cell_type": "code",
   "execution_count": null,
   "metadata": {},
   "outputs": [],
   "source": [
    "# Import the data\n",
    "import pandas as pd\n",
    "from CorrHOD.catalogs import read_fits\n",
    "\n",
    "path = '/global/cfs/cdirs/desi/cosmosim/FirstGenMocks/AbacusSummit/CubicBox/BGS_v2/z0.200/AbacusSummit_base_c000_ph000/BGS_box_ph000.fits'\n",
    "data_cubic = read_fits(path, check_cubic_format=True, print_column_names=True)\n",
    "\n",
    "# Apply some cuts to the data\n",
    "mask = (data_cubic['R_MAG_ABS'] < -21.5).to_numpy() # Create a mask to select the galaxies that are brighter than the magnitude cut\n",
    "data_cubic = pd.DataFrame(data_cubic.values[mask], columns=data_cubic.columns) # Apply the mask to the data"
   ]
  },
  {
   "cell_type": "code",
   "execution_count": null,
   "metadata": {},
   "outputs": [],
   "source": [
    "# Create a CorrHOD object to make computation easier\n",
    "path2config = Path('config.yaml') # Useless here, but we need it to create the object\n",
    "Object = CorrHOD_cubic(path2config) \n",
    "Object.cubic_dict = data_cubic"
   ]
  },
  {
   "cell_type": "code",
   "execution_count": null,
   "metadata": {},
   "outputs": [],
   "source": [
    "# And then , run the analysis as usual\n",
    "Object.get_tracer_positions(); # Get the positions of the tracers and get the coordinates in the right shift\n",
    "\n",
    "..."
   ]
  }
 ],
 "metadata": {
  "kernelspec": {
   "display_name": "base",
   "language": "python",
   "name": "python3"
  },
  "language_info": {
   "codemirror_mode": {
    "name": "ipython",
    "version": 3
   },
   "file_extension": ".py",
   "mimetype": "text/x-python",
   "name": "python",
   "nbconvert_exporter": "python",
   "pygments_lexer": "ipython3",
   "version": "3.10.12"
  },
  "orig_nbformat": 4
 },
 "nbformat": 4,
 "nbformat_minor": 2
}
